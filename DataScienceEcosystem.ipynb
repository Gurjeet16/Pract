{
 "cells": [
  {
   "cell_type": "code",
   "execution_count": 2,
   "id": "bd28982c",
   "metadata": {},
   "outputs": [],
   "source": [
    "#Data Science Tools and Ecosystem"
   ]
  },
  {
   "cell_type": "code",
   "execution_count": null,
   "id": "6658aefa",
   "metadata": {},
   "outputs": [],
   "source": [
    "#In this notebook, Data Science Tools and Ecosystem are summarized."
   ]
  },
  {
   "cell_type": "code",
   "execution_count": null,
   "id": "89ac6078",
   "metadata": {},
   "outputs": [],
   "source": [
    "#Some of the popular languages that Data Scientists use are:\n",
    "1. Python\n",
    "2. R language\n",
    "3. SQL"
   ]
  },
  {
   "cell_type": "code",
   "execution_count": null,
   "id": "83821cad",
   "metadata": {},
   "outputs": [],
   "source": [
    "#Some of the commonly used libraries used by Data Scientists include:\n",
    "1. Pandas\n",
    "2. ggplot\n",
    "3. caret\n",
    "4. Numpy"
   ]
  },
  {
   "cell_type": "code",
   "execution_count": null,
   "id": "6b16f794",
   "metadata": {},
   "outputs": [],
   "source": [
    "#Data Science tools\n",
    "1. Jupyter\n",
    "2. R Studio\n",
    "3. Orange\n"
   ]
  },
  {
   "cell_type": "code",
   "execution_count": null,
   "id": "ce7bc039",
   "metadata": {},
   "outputs": [],
   "source": [
    "#Below are a few examples of evaluating arithmetic expressions in Python\n"
   ]
  },
  {
   "cell_type": "code",
   "execution_count": 3,
   "id": "ad72cc53",
   "metadata": {},
   "outputs": [
    {
     "name": "stdout",
     "output_type": "stream",
     "text": [
      "17\n"
     ]
    }
   ],
   "source": [
    "x=3\n",
    "y=4\n",
    "z=5\n",
    "# This a simple arithmetic expression to mutiply then add integers\n",
    "a=(x*y)+z\n",
    "print(a)"
   ]
  },
  {
   "cell_type": "code",
   "execution_count": 5,
   "id": "5d2238c7",
   "metadata": {},
   "outputs": [
    {
     "name": "stdout",
     "output_type": "stream",
     "text": [
      "hours=  3.3333333333333335\n"
     ]
    }
   ],
   "source": [
    "#Minutes to hour\n",
    "x=200#minutes\n",
    "y=x/60\n",
    "print(\"hours= \", y)"
   ]
  },
  {
   "cell_type": "markdown",
   "id": "990c3792",
   "metadata": {},
   "source": [
    "#objectives:\n",
    "1. List popular languages for Data Science\n",
    "2. Data Science tools\n",
    "3. Some of the commonly used libraries used by Data Scientists\n"
   ]
  },
  {
   "cell_type": "code",
   "execution_count": null,
   "id": "a3980306",
   "metadata": {},
   "outputs": [],
   "source": [
    "#Author\n",
    "Gurjeet Singh"
   ]
  },
  {
   "cell_type": "code",
   "execution_count": null,
   "id": "07df6fd0",
   "metadata": {},
   "outputs": [],
   "source": []
  },
  {
   "cell_type": "code",
   "execution_count": null,
   "id": "283666c8",
   "metadata": {},
   "outputs": [],
   "source": []
  }
 ],
 "metadata": {
  "kernelspec": {
   "display_name": "Python 3 (ipykernel)",
   "language": "python",
   "name": "python3"
  },
  "language_info": {
   "codemirror_mode": {
    "name": "ipython",
    "version": 3
   },
   "file_extension": ".py",
   "mimetype": "text/x-python",
   "name": "python",
   "nbconvert_exporter": "python",
   "pygments_lexer": "ipython3",
   "version": "3.9.12"
  }
 },
 "nbformat": 4,
 "nbformat_minor": 5
}
